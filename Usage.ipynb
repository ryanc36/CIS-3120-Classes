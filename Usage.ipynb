{
 "cells": [
  {
   "cell_type": "code",
   "execution_count": 1,
   "id": "6b88b4bc-a5c4-436d-9eed-8e95600f6d53",
   "metadata": {
    "editable": true,
    "slideshow": {
     "slide_type": ""
    },
    "tags": []
   },
   "outputs": [],
   "source": [
    "from Animal import Animal"
   ]
  },
  {
   "cell_type": "code",
   "execution_count": 3,
   "id": "738a52e3-faf1-4f92-8835-fed5b5e36dfe",
   "metadata": {
    "editable": true,
    "slideshow": {
     "slide_type": ""
    },
    "tags": []
   },
   "outputs": [
    {
     "name": "stdout",
     "output_type": "stream",
     "text": [
      "hello i am Joe\n",
      "I want to go on a walk. I am hungry. I want to jump. I need to use the bathroom\n",
      "hi\n",
      "*steps forward*\n",
      "*chomp*\n",
      "*drinks water*\n",
      "*bowels emptied*\n",
      "All clean now\n",
      "Joe  is hungry? False. is thirsty? True. needs to poop? False. is dirty? False. Has been walked? True\n"
     ]
    }
   ],
   "source": [
    "x = Animal(\"Joe\")\n",
    "x.talk()\n",
    "x.walk()\n",
    "x.eat()\n",
    "x.drink()\n",
    "x.poop()\n",
    "x.bathe()\n",
    "x.status()"
   ]
  },
  {
   "cell_type": "code",
   "execution_count": null,
   "id": "7428337b-a012-4906-b52b-fd9a4d7f7059",
   "metadata": {},
   "outputs": [],
   "source": []
  }
 ],
 "metadata": {
  "kernelspec": {
   "display_name": "Python 3 (ipykernel)",
   "language": "python",
   "name": "python3"
  },
  "language_info": {
   "codemirror_mode": {
    "name": "ipython",
    "version": 3
   },
   "file_extension": ".py",
   "mimetype": "text/x-python",
   "name": "python",
   "nbconvert_exporter": "python",
   "pygments_lexer": "ipython3",
   "version": "3.10.14"
  }
 },
 "nbformat": 4,
 "nbformat_minor": 5
}
